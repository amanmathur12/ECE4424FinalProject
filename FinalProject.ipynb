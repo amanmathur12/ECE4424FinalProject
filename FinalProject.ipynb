{
 "cells": [
  {
   "cell_type": "code",
   "execution_count": 108,
   "metadata": {
    "colab": {
     "base_uri": "https://localhost:8080/"
    },
    "id": "bGI4WIRpv846",
    "outputId": "f0396dce-2921-4353-af23-31faa664c935"
   },
   "outputs": [
    {
     "name": "stdout",
     "output_type": "stream",
     "text": [
      "Requirement already satisfied: Flask-Session in c:\\users\\mathu\\appdata\\local\\programs\\python\\python39\\lib\\site-packages (0.4.0)\n",
      "Requirement already satisfied: Flask>=0.8 in c:\\users\\mathu\\appdata\\local\\programs\\python\\python39\\lib\\site-packages (from Flask-Session) (2.0.2)\n",
      "Requirement already satisfied: cachelib in c:\\users\\mathu\\appdata\\local\\programs\\python\\python39\\lib\\site-packages (from Flask-Session) (0.6.0)\n",
      "Requirement already satisfied: Jinja2>=3.0 in c:\\users\\mathu\\appdata\\local\\programs\\python\\python39\\lib\\site-packages (from Flask>=0.8->Flask-Session) (3.0.2)\n",
      "Requirement already satisfied: Werkzeug>=2.0 in c:\\users\\mathu\\appdata\\local\\programs\\python\\python39\\lib\\site-packages (from Flask>=0.8->Flask-Session) (2.0.2)\n",
      "Requirement already satisfied: itsdangerous>=2.0 in c:\\users\\mathu\\appdata\\local\\programs\\python\\python39\\lib\\site-packages (from Flask>=0.8->Flask-Session) (2.0.1)\n",
      "Requirement already satisfied: click>=7.1.2 in c:\\users\\mathu\\appdata\\local\\programs\\python\\python39\\lib\\site-packages (from Flask>=0.8->Flask-Session) (8.0.2)\n",
      "Requirement already satisfied: colorama in c:\\users\\mathu\\appdata\\local\\programs\\python\\python39\\lib\\site-packages (from click>=7.1.2->Flask>=0.8->Flask-Session) (0.4.4)\n",
      "Requirement already satisfied: MarkupSafe>=2.0 in c:\\users\\mathu\\appdata\\local\\programs\\python\\python39\\lib\\site-packages (from Jinja2>=3.0->Flask>=0.8->Flask-Session) (2.0.1)\n",
      "Note: you may need to restart the kernel to use updated packages.\n",
      "Requirement already satisfied: Flask in c:\\users\\mathu\\appdata\\local\\programs\\python\\python39\\lib\\site-packages (2.0.2)\n",
      "Requirement already satisfied: click>=7.1.2 in c:\\users\\mathu\\appdata\\local\\programs\\python\\python39\\lib\\site-packages (from Flask) (8.0.2)\n",
      "Requirement already satisfied: itsdangerous>=2.0 in c:\\users\\mathu\\appdata\\local\\programs\\python\\python39\\lib\\site-packages (from Flask) (2.0.1)\n",
      "Requirement already satisfied: Werkzeug>=2.0 in c:\\users\\mathu\\appdata\\local\\programs\\python\\python39\\lib\\site-packages (from Flask) (2.0.2)\n",
      "Requirement already satisfied: Jinja2>=3.0 in c:\\users\\mathu\\appdata\\local\\programs\\python\\python39\\lib\\site-packages (from Flask) (3.0.2)\n",
      "Requirement already satisfied: colorama in c:\\users\\mathu\\appdata\\local\\programs\\python\\python39\\lib\\site-packages (from click>=7.1.2->Flask) (0.4.4)\n",
      "Requirement already satisfied: MarkupSafe>=2.0 in c:\\users\\mathu\\appdata\\local\\programs\\python\\python39\\lib\\site-packages (from Jinja2>=3.0->Flask) (2.0.1)\n",
      "Note: you may need to restart the kernel to use updated packages.\n",
      "Requirement already satisfied: opencv-python in c:\\users\\mathu\\appdata\\local\\programs\\python\\python39\\lib\\site-packages (4.5.5.64)\n",
      "Requirement already satisfied: numpy>=1.14.5 in c:\\users\\mathu\\appdata\\local\\programs\\python\\python39\\lib\\site-packages (from opencv-python) (1.21.4)\n",
      "Note: you may need to restart the kernel to use updated packages.\n",
      "Requirement already satisfied: pickle-mixin in c:\\users\\mathu\\appdata\\local\\programs\\python\\python39\\lib\\site-packages (1.0.2)\n",
      "Note: you may need to restart the kernel to use updated packages.\n",
      "Requirement already satisfied: tensorflow in c:\\users\\mathu\\appdata\\local\\programs\\python\\python39\\lib\\site-packages (2.8.0)\n",
      "Requirement already satisfied: libclang>=9.0.1 in c:\\users\\mathu\\appdata\\local\\programs\\python\\python39\\lib\\site-packages (from tensorflow) (14.0.1)\n",
      "Requirement already satisfied: wrapt>=1.11.0 in c:\\users\\mathu\\appdata\\local\\programs\\python\\python39\\lib\\site-packages (from tensorflow) (1.14.0)\n",
      "Requirement already satisfied: keras-preprocessing>=1.1.1 in c:\\users\\mathu\\appdata\\local\\programs\\python\\python39\\lib\\site-packages (from tensorflow) (1.1.2)\n",
      "Requirement already satisfied: gast>=0.2.1 in c:\\users\\mathu\\appdata\\local\\programs\\python\\python39\\lib\\site-packages (from tensorflow) (0.5.3)\n",
      "Requirement already satisfied: protobuf>=3.9.2 in c:\\users\\mathu\\appdata\\local\\programs\\python\\python39\\lib\\site-packages (from tensorflow) (3.20.1)\n",
      "Requirement already satisfied: tensorboard<2.9,>=2.8 in c:\\users\\mathu\\appdata\\local\\programs\\python\\python39\\lib\\site-packages (from tensorflow) (2.8.0)\n",
      "Requirement already satisfied: setuptools in c:\\users\\mathu\\appdata\\local\\programs\\python\\python39\\lib\\site-packages (from tensorflow) (62.1.0)\n",
      "Requirement already satisfied: h5py>=2.9.0 in c:\\users\\mathu\\appdata\\local\\programs\\python\\python39\\lib\\site-packages (from tensorflow) (3.6.0)\n",
      "Requirement already satisfied: absl-py>=0.4.0 in c:\\users\\mathu\\appdata\\local\\programs\\python\\python39\\lib\\site-packages (from tensorflow) (1.0.0)\n",
      "Requirement already satisfied: tf-estimator-nightly==2.8.0.dev2021122109 in c:\\users\\mathu\\appdata\\local\\programs\\python\\python39\\lib\\site-packages (from tensorflow) (2.8.0.dev2021122109)\n",
      "Requirement already satisfied: opt-einsum>=2.3.2 in c:\\users\\mathu\\appdata\\local\\programs\\python\\python39\\lib\\site-packages (from tensorflow) (3.3.0)\n",
      "Requirement already satisfied: google-pasta>=0.1.1 in c:\\users\\mathu\\appdata\\local\\programs\\python\\python39\\lib\\site-packages (from tensorflow) (0.2.0)\n",
      "Requirement already satisfied: typing-extensions>=3.6.6 in c:\\users\\mathu\\appdata\\local\\programs\\python\\python39\\lib\\site-packages (from tensorflow) (4.0.1)\n",
      "Requirement already satisfied: numpy>=1.20 in c:\\users\\mathu\\appdata\\local\\programs\\python\\python39\\lib\\site-packages (from tensorflow) (1.21.4)\n",
      "Requirement already satisfied: keras<2.9,>=2.8.0rc0 in c:\\users\\mathu\\appdata\\local\\programs\\python\\python39\\lib\\site-packages (from tensorflow) (2.8.0)\n",
      "Requirement already satisfied: tensorflow-io-gcs-filesystem>=0.23.1 in c:\\users\\mathu\\appdata\\local\\programs\\python\\python39\\lib\\site-packages (from tensorflow) (0.25.0)\n",
      "Requirement already satisfied: flatbuffers>=1.12 in c:\\users\\mathu\\appdata\\local\\programs\\python\\python39\\lib\\site-packages (from tensorflow) (2.0)\n",
      "Requirement already satisfied: grpcio<2.0,>=1.24.3 in c:\\users\\mathu\\appdata\\local\\programs\\python\\python39\\lib\\site-packages (from tensorflow) (1.44.0)\n",
      "Requirement already satisfied: termcolor>=1.1.0 in c:\\users\\mathu\\appdata\\local\\programs\\python\\python39\\lib\\site-packages (from tensorflow) (1.1.0)\n",
      "Requirement already satisfied: six>=1.12.0 in c:\\users\\mathu\\appdata\\local\\programs\\python\\python39\\lib\\site-packages (from tensorflow) (1.16.0)\n",
      "Requirement already satisfied: astunparse>=1.6.0 in c:\\users\\mathu\\appdata\\local\\programs\\python\\python39\\lib\\site-packages (from tensorflow) (1.6.3)\n",
      "Requirement already satisfied: wheel<1.0,>=0.23.0 in c:\\users\\mathu\\appdata\\local\\programs\\python\\python39\\lib\\site-packages (from astunparse>=1.6.0->tensorflow) (0.37.1)\n",
      "Requirement already satisfied: google-auth<3,>=1.6.3 in c:\\users\\mathu\\appdata\\local\\programs\\python\\python39\\lib\\site-packages (from tensorboard<2.9,>=2.8->tensorflow) (2.6.6)\n",
      "Requirement already satisfied: google-auth-oauthlib<0.5,>=0.4.1 in c:\\users\\mathu\\appdata\\local\\programs\\python\\python39\\lib\\site-packages (from tensorboard<2.9,>=2.8->tensorflow) (0.4.6)\n",
      "Requirement already satisfied: markdown>=2.6.8 in c:\\users\\mathu\\appdata\\local\\programs\\python\\python39\\lib\\site-packages (from tensorboard<2.9,>=2.8->tensorflow) (3.3.6)\n",
      "Requirement already satisfied: werkzeug>=0.11.15 in c:\\users\\mathu\\appdata\\local\\programs\\python\\python39\\lib\\site-packages (from tensorboard<2.9,>=2.8->tensorflow) (2.0.2)\n",
      "Requirement already satisfied: tensorboard-data-server<0.7.0,>=0.6.0 in c:\\users\\mathu\\appdata\\local\\programs\\python\\python39\\lib\\site-packages (from tensorboard<2.9,>=2.8->tensorflow) (0.6.1)\n",
      "Requirement already satisfied: requests<3,>=2.21.0 in c:\\users\\mathu\\appdata\\roaming\\python\\python39\\site-packages (from tensorboard<2.9,>=2.8->tensorflow) (2.21.0)\n",
      "Requirement already satisfied: tensorboard-plugin-wit>=1.6.0 in c:\\users\\mathu\\appdata\\local\\programs\\python\\python39\\lib\\site-packages (from tensorboard<2.9,>=2.8->tensorflow) (1.8.1)\n",
      "Requirement already satisfied: rsa<5,>=3.1.4 in c:\\users\\mathu\\appdata\\local\\programs\\python\\python39\\lib\\site-packages (from google-auth<3,>=1.6.3->tensorboard<2.9,>=2.8->tensorflow) (4.8)\n",
      "Requirement already satisfied: pyasn1-modules>=0.2.1 in c:\\users\\mathu\\appdata\\local\\programs\\python\\python39\\lib\\site-packages (from google-auth<3,>=1.6.3->tensorboard<2.9,>=2.8->tensorflow) (0.2.8)\n",
      "Requirement already satisfied: cachetools<6.0,>=2.0.0 in c:\\users\\mathu\\appdata\\local\\programs\\python\\python39\\lib\\site-packages (from google-auth<3,>=1.6.3->tensorboard<2.9,>=2.8->tensorflow) (5.0.0)\n",
      "Requirement already satisfied: requests-oauthlib>=0.7.0 in c:\\users\\mathu\\appdata\\local\\programs\\python\\python39\\lib\\site-packages (from google-auth-oauthlib<0.5,>=0.4.1->tensorboard<2.9,>=2.8->tensorflow) (1.3.1)\n",
      "Requirement already satisfied: importlib-metadata>=4.4 in c:\\users\\mathu\\appdata\\local\\programs\\python\\python39\\lib\\site-packages (from markdown>=2.6.8->tensorboard<2.9,>=2.8->tensorflow) (4.11.3)\n",
      "Requirement already satisfied: idna<2.9,>=2.5 in c:\\users\\mathu\\appdata\\roaming\\python\\python39\\site-packages (from requests<3,>=2.21.0->tensorboard<2.9,>=2.8->tensorflow) (2.8)\n",
      "Requirement already satisfied: chardet<3.1.0,>=3.0.2 in c:\\users\\mathu\\appdata\\roaming\\python\\python39\\site-packages (from requests<3,>=2.21.0->tensorboard<2.9,>=2.8->tensorflow) (3.0.4)\n",
      "Requirement already satisfied: certifi>=2017.4.17 in c:\\users\\mathu\\appdata\\local\\programs\\python\\python39\\lib\\site-packages (from requests<3,>=2.21.0->tensorboard<2.9,>=2.8->tensorflow) (2021.5.30)\n",
      "Requirement already satisfied: urllib3<1.25,>=1.21.1 in c:\\users\\mathu\\appdata\\roaming\\python\\python39\\site-packages (from requests<3,>=2.21.0->tensorboard<2.9,>=2.8->tensorflow) (1.24.3)\n",
      "Requirement already satisfied: zipp>=0.5 in c:\\users\\mathu\\appdata\\local\\programs\\python\\python39\\lib\\site-packages (from importlib-metadata>=4.4->markdown>=2.6.8->tensorboard<2.9,>=2.8->tensorflow) (3.8.0)\n",
      "Requirement already satisfied: pyasn1<0.5.0,>=0.4.6 in c:\\users\\mathu\\appdata\\local\\programs\\python\\python39\\lib\\site-packages (from pyasn1-modules>=0.2.1->google-auth<3,>=1.6.3->tensorboard<2.9,>=2.8->tensorflow) (0.4.8)\n",
      "Requirement already satisfied: oauthlib>=3.0.0 in c:\\users\\mathu\\appdata\\local\\programs\\python\\python39\\lib\\site-packages (from requests-oauthlib>=0.7.0->google-auth-oauthlib<0.5,>=0.4.1->tensorboard<2.9,>=2.8->tensorflow) (3.2.0)\n",
      "Note: you may need to restart the kernel to use updated packages.\n"
     ]
    }
   ],
   "source": [
    "#%ngrok authtoken 28O6b8H568ljQHMB6iNMekjSBh3_4oC5ziznYkA2AxbW6GrHG\n",
    "\n",
    "'''\n",
    "installs Flask, OpenCV, Pickle, and Tensorflow if needed\n",
    "'''\n",
    "%pip install Flask-Session\n",
    "%pip install Flask\n",
    "%pip install opencv-python\n",
    "%pip install pickle-mixin\n",
    "%pip install tensorflow"
   ]
  },
  {
   "cell_type": "code",
   "execution_count": 111,
   "metadata": {
    "colab": {
     "base_uri": "https://localhost:8080/",
     "height": 244
    },
    "id": "JGL2y5gxmNVN",
    "outputId": "ce68f297-f42a-448f-db88-76d89a078902"
   },
   "outputs": [],
   "source": [
    "from keras.utils.np_utils import to_categorical\n",
    "import json\n",
    "import base64\n",
    "from flask import Flask, url_for,request,render_template\n",
    "from flask_ngrok import run_with_ngrok\n",
    "import os\n",
    "import pickle\n",
    "import sys\n",
    "import io\n",
    "\n",
    "from tensorflow import keras\n",
    "from keras import optimizers\n",
    "from keras.datasets import mnist\n",
    "from keras.preprocessing.image import ImageDataGenerator\n",
    "from keras.models import Sequential, load_model\n",
    "from keras.layers import Dense, Dropout, Activation, Flatten\n",
    "from keras.layers import Conv2D, MaxPooling2D\n",
    "from keras.callbacks import ModelCheckpoint\n",
    "from keras.backend import dtype\n",
    "from flask import jsonify\n",
    "from PIL import Image, ImageOps\n",
    "import numpy as np\n",
    "import requests\n",
    "import cv2\n",
    "#from google.colab.patches import cv2_imshow\n",
    "\n",
    "#from google.colab import drive\n",
    "#drive.mount('/content/gdrive')\n",
    "#prefix = '/content/drive/My Drive/'\n",
    "\n",
    "#custom_path = 'Colab Notebooks/ML Final Project'\n",
    "#sys_path = prefix + custom_path\n",
    "#sys.path.append(sys_path)#\n",
    "\n",
    "#htmlfile = os.path.join(sys_path, 'finalproj.html')"
   ]
  },
  {
   "cell_type": "code",
   "execution_count": 112,
   "metadata": {
    "id": "qVU_cRAtpKGu"
   },
   "outputs": [],
   "source": [
    "batch_size = 32\n",
    "num_classes = 10\n",
    "epochs = 25"
   ]
  },
  {
   "cell_type": "code",
   "execution_count": 113,
   "metadata": {
    "id": "-m5NjswCmev9"
   },
   "outputs": [],
   "source": [
    "'''\n",
    "function to load data from MNIST dataset and split into training, testing, and validation data sets\n",
    "'''\n",
    "def generate_data():\n",
    "  (x_train, y_train), (x_test, y_test) = mnist.load_data()\n",
    "  \n",
    "  y_train = to_categorical(y_train,num_classes)\n",
    "  y_test = to_categorical(y_test,num_classes)\n",
    "\n",
    "  x_train = x_train.astype('float32')\n",
    "  x_test = x_test.astype('float32')\n",
    "  x_train /= 255\n",
    "  x_test /= 255\n",
    "\n",
    "  #splits the data for training and validation\n",
    "  x_validate = x_train[50000:,:]\n",
    "  x_train = x_train[:50000,:]\n",
    "  y_validate = y_train[50000:,:]\n",
    "  y_train = y_train[:50000,:]\n",
    "\n",
    "  #reshapes image data sets\n",
    "  x_train = x_train.reshape((x_train.shape[0], 28, 28, 1))\n",
    "  x_test = x_test.reshape((x_test.shape[0], 28, 28, 1))\n",
    "  \n",
    "  return x_train, y_train, x_validate, y_validate, x_test, y_test"
   ]
  },
  {
   "cell_type": "code",
   "execution_count": 114,
   "metadata": {
    "colab": {
     "base_uri": "https://localhost:8080/"
    },
    "id": "HafvlMnvpD5d",
    "outputId": "e7f96f95-c971-4d9b-b75e-a09351bc703a"
   },
   "outputs": [],
   "source": [
    "x_train, y_train, x_validate, y_validate, x_test, y_test = generate_data()"
   ]
  },
  {
   "cell_type": "code",
   "execution_count": 115,
   "metadata": {
    "id": "xt1mQ83tpAV5"
   },
   "outputs": [],
   "source": [
    "def cnn():\n",
    "\n",
    "  model = Sequential()\n",
    "\n",
    "  #stack of convolution layers and sets input shape\n",
    "  model.add(Conv2D(32, (3, 3), padding='same',input_shape=(28, 28, 1)))\n",
    "  model.add(Activation('relu'))\n",
    "  model.add(Conv2D(32, (3, 3), padding='same'))\n",
    "  model.add(Activation('relu'))\n",
    "\n",
    "  model.add(MaxPooling2D(pool_size=(2, 2)))\n",
    "  model.add(Dropout(0.25))\n",
    "\n",
    "  #second stack of convolutional layers\n",
    "  model.add(Conv2D(64, (3, 3), padding='same'))\n",
    "  model.add(Activation('relu'))\n",
    "  model.add(Conv2D(64, (3, 3), padding='same'))\n",
    "  model.add(Activation('relu'))\n",
    "\n",
    "  model.add(MaxPooling2D(pool_size=(2, 2)))\n",
    "\n",
    "\n",
    "  model.add(Flatten())\n",
    "  model.add(Dense(256))\n",
    "  model.add(Activation('relu'))\n",
    "  model.add(Dropout(0.25))\n",
    "  model.add(Dense(num_classes))\n",
    "  model.add(Activation('softmax'))\n",
    "\n",
    "  opt = keras.optimizers.Adam(learning_rate=0.001)\n",
    "  \n",
    "  model.compile(loss='categorical_crossentropy',\n",
    "                optimizer=opt,\n",
    "                metrics=['accuracy'])\n",
    "  print(model.summary())\n",
    "\n",
    "  return model"
   ]
  },
  {
   "cell_type": "code",
   "execution_count": 101,
   "metadata": {
    "colab": {
     "base_uri": "https://localhost:8080/",
     "height": 1000
    },
    "id": "shNvIIr_n7P2",
    "outputId": "85fef2ba-da61-4e3e-b4c7-44fee4d6fc32"
   },
   "outputs": [
    {
     "name": "stdout",
     "output_type": "stream",
     "text": [
      "Model: \"sequential_2\"\n",
      "_________________________________________________________________\n",
      " Layer (type)                Output Shape              Param #   \n",
      "=================================================================\n",
      " conv2d_8 (Conv2D)           (None, 28, 28, 32)        320       \n",
      "                                                                 \n",
      " activation_12 (Activation)  (None, 28, 28, 32)        0         \n",
      "                                                                 \n",
      " conv2d_9 (Conv2D)           (None, 28, 28, 32)        9248      \n",
      "                                                                 \n",
      " activation_13 (Activation)  (None, 28, 28, 32)        0         \n",
      "                                                                 \n",
      " max_pooling2d_4 (MaxPooling  (None, 14, 14, 32)       0         \n",
      " 2D)                                                             \n",
      "                                                                 \n",
      " dropout_4 (Dropout)         (None, 14, 14, 32)        0         \n",
      "                                                                 \n",
      " conv2d_10 (Conv2D)          (None, 14, 14, 64)        18496     \n",
      "                                                                 \n",
      " activation_14 (Activation)  (None, 14, 14, 64)        0         \n",
      "                                                                 \n",
      " conv2d_11 (Conv2D)          (None, 14, 14, 64)        36928     \n",
      "                                                                 \n",
      " activation_15 (Activation)  (None, 14, 14, 64)        0         \n",
      "                                                                 \n",
      " max_pooling2d_5 (MaxPooling  (None, 7, 7, 64)         0         \n",
      " 2D)                                                             \n",
      "                                                                 \n",
      " flatten_2 (Flatten)         (None, 3136)              0         \n",
      "                                                                 \n",
      " dense_4 (Dense)             (None, 256)               803072    \n",
      "                                                                 \n",
      " activation_16 (Activation)  (None, 256)               0         \n",
      "                                                                 \n",
      " dropout_5 (Dropout)         (None, 256)               0         \n",
      "                                                                 \n",
      " dense_5 (Dense)             (None, 10)                2570      \n",
      "                                                                 \n",
      " activation_17 (Activation)  (None, 10)                0         \n",
      "                                                                 \n",
      "=================================================================\n",
      "Total params: 870,634\n",
      "Trainable params: 870,634\n",
      "Non-trainable params: 0\n",
      "_________________________________________________________________\n",
      "None\n",
      "Epoch 1/25\n",
      "1563/1563 [==============================] - 15s 9ms/step - loss: 0.1435 - accuracy: 0.9550 - val_loss: 0.0428 - val_accuracy: 0.9875\n",
      "Epoch 2/25\n",
      "1563/1563 [==============================] - 13s 8ms/step - loss: 0.0481 - accuracy: 0.9853 - val_loss: 0.0389 - val_accuracy: 0.9881\n",
      "Epoch 3/25\n",
      "1563/1563 [==============================] - 13s 8ms/step - loss: 0.0344 - accuracy: 0.9895 - val_loss: 0.0280 - val_accuracy: 0.9919\n",
      "Epoch 4/25\n",
      "1563/1563 [==============================] - 13s 9ms/step - loss: 0.0287 - accuracy: 0.9908 - val_loss: 0.0263 - val_accuracy: 0.9932\n",
      "Epoch 5/25\n",
      "1563/1563 [==============================] - 13s 8ms/step - loss: 0.0223 - accuracy: 0.9930 - val_loss: 0.0297 - val_accuracy: 0.9927\n",
      "Epoch 6/25\n",
      "1563/1563 [==============================] - 13s 8ms/step - loss: 0.0189 - accuracy: 0.9941 - val_loss: 0.0331 - val_accuracy: 0.9921\n",
      "Epoch 7/25\n",
      "1563/1563 [==============================] - 13s 9ms/step - loss: 0.0167 - accuracy: 0.9944 - val_loss: 0.0359 - val_accuracy: 0.9919\n",
      "Epoch 8/25\n",
      "1563/1563 [==============================] - 14s 9ms/step - loss: 0.0156 - accuracy: 0.9947 - val_loss: 0.0395 - val_accuracy: 0.9921\n",
      "Epoch 9/25\n",
      "1563/1563 [==============================] - 13s 9ms/step - loss: 0.0123 - accuracy: 0.9962 - val_loss: 0.0356 - val_accuracy: 0.9928\n",
      "Epoch 10/25\n",
      "1563/1563 [==============================] - 13s 9ms/step - loss: 0.0106 - accuracy: 0.9961 - val_loss: 0.0474 - val_accuracy: 0.9913\n",
      "Epoch 11/25\n",
      "1563/1563 [==============================] - 13s 9ms/step - loss: 0.0115 - accuracy: 0.9966 - val_loss: 0.0361 - val_accuracy: 0.9927\n",
      "Epoch 12/25\n",
      "1563/1563 [==============================] - 14s 9ms/step - loss: 0.0106 - accuracy: 0.9965 - val_loss: 0.0336 - val_accuracy: 0.9934\n",
      "Epoch 13/25\n",
      "1563/1563 [==============================] - 13s 9ms/step - loss: 0.0100 - accuracy: 0.9971 - val_loss: 0.0461 - val_accuracy: 0.9912\n",
      "Epoch 14/25\n",
      "1563/1563 [==============================] - 14s 9ms/step - loss: 0.0086 - accuracy: 0.9973 - val_loss: 0.0379 - val_accuracy: 0.9934\n",
      "Epoch 15/25\n",
      "1563/1563 [==============================] - 14s 9ms/step - loss: 0.0092 - accuracy: 0.9971 - val_loss: 0.0438 - val_accuracy: 0.9928\n",
      "Epoch 16/25\n",
      "1563/1563 [==============================] - 15s 9ms/step - loss: 0.0094 - accuracy: 0.9971 - val_loss: 0.0552 - val_accuracy: 0.9908\n",
      "Epoch 17/25\n",
      "1563/1563 [==============================] - 14s 9ms/step - loss: 0.0087 - accuracy: 0.9973 - val_loss: 0.0405 - val_accuracy: 0.9928\n",
      "Epoch 18/25\n",
      "1563/1563 [==============================] - 14s 9ms/step - loss: 0.0087 - accuracy: 0.9974 - val_loss: 0.0392 - val_accuracy: 0.9937\n",
      "Epoch 19/25\n",
      "1563/1563 [==============================] - 14s 9ms/step - loss: 0.0083 - accuracy: 0.9974 - val_loss: 0.0563 - val_accuracy: 0.9926\n",
      "Epoch 20/25\n",
      "1563/1563 [==============================] - 14s 9ms/step - loss: 0.0076 - accuracy: 0.9977 - val_loss: 0.0482 - val_accuracy: 0.9929\n",
      "Epoch 21/25\n",
      "1563/1563 [==============================] - 14s 9ms/step - loss: 0.0078 - accuracy: 0.9976 - val_loss: 0.0608 - val_accuracy: 0.9921\n",
      "Epoch 22/25\n",
      "1563/1563 [==============================] - 14s 9ms/step - loss: 0.0075 - accuracy: 0.9980 - val_loss: 0.0539 - val_accuracy: 0.9913\n",
      "Epoch 23/25\n",
      "1563/1563 [==============================] - 14s 9ms/step - loss: 0.0075 - accuracy: 0.9977 - val_loss: 0.0533 - val_accuracy: 0.9927\n",
      "Epoch 24/25\n",
      "1563/1563 [==============================] - 15s 9ms/step - loss: 0.0070 - accuracy: 0.9980 - val_loss: 0.0527 - val_accuracy: 0.9926\n",
      "Epoch 25/25\n",
      "1563/1563 [==============================] - 15s 9ms/step - loss: 0.0080 - accuracy: 0.9977 - val_loss: 0.0526 - val_accuracy: 0.9917\n",
      "\n",
      "99.19999837875366\n"
     ]
    }
   ],
   "source": [
    "#runs CNN model and evaluates it\n",
    "model = cnn()\n",
    "model.fit(x_train, y_train,\n",
    "          batch_size=batch_size,\n",
    "          epochs=epochs,\n",
    "          validation_data=(x_validate, y_validate))\n",
    "_, acc = model.evaluate(x_test,y_test,verbose=0)\n",
    "print()\n",
    "print((acc * 100.0))"
   ]
  },
  {
   "cell_type": "code",
   "execution_count": 116,
   "metadata": {
    "id": "77udIcAtAZJZ"
   },
   "outputs": [],
   "source": [
    "'''\n",
    "K-Nearest Neighbors Algorithm for images\n",
    "Takes an image of size (1,28.28,1) and returns its prediction\n",
    "'''\n",
    "def knn_predict(img):\n",
    "  k = 10\n",
    "  preds = []\n",
    "  count = {}\n",
    "  \n",
    "  distances = []\n",
    "  #finds distance between input image and each image in the train dataset\n",
    "  for j in range(len(x_train)):\n",
    "    dist = np.sqrt(np.sum((x_train[j]-img)**2))\n",
    "    idx = np.where(y_train[j] == 1)\n",
    "    #stores distance with training image label\n",
    "    distances.append((idx[0][0],dist))\n",
    "\n",
    "  #sorts the images from shortest distance to longest \n",
    "  distances.sort(key=lambda x:x[1])\n",
    "  labels = []\n",
    "  \n",
    "  #gets the k neighborhood\n",
    "  for val in range(k):\n",
    "    labels.append(distances[val][0])\n",
    "\n",
    "  count = {}\n",
    "  for label in labels:\n",
    "    if label not in count:\n",
    "      count[label] = 1\n",
    "    else:\n",
    "      count[label] += 1\n",
    "  maximum = max(count.values())\n",
    "   \n",
    "  for item in count.items():\n",
    "    if item[1] == maximum:\n",
    "      return item[0]"
   ]
  },
  {
   "cell_type": "code",
   "execution_count": 117,
   "metadata": {
    "colab": {
     "base_uri": "https://localhost:8080/"
    },
    "id": "TkzXtL-NRMRs",
    "outputId": "93580213-2dea-492b-f40a-8e6571336543"
   },
   "outputs": [],
   "source": [
    "'''\n",
    "runs KNN predictions over the first 2000 images of the test dataset\n",
    "'''\n",
    "correct = 0\n",
    "acc_list = []\n",
    "for i in range(len(x_test)):\n",
    "  #print(i)\n",
    "  if i > 2000:\n",
    "    break\n",
    "  pred = knn_predict(x_test[i])\n",
    "  #print(pred)\n",
    "  #print(y_test[i])\n",
    "  temp = np.where(y_test[i] == 1)\n",
    "  if pred == temp:\n",
    "    correct += 1\n",
    "  acc = (correct / (i+1)) * 100\n",
    "  acc_list.append(acc)"
   ]
  },
  {
   "cell_type": "code",
   "execution_count": 118,
   "metadata": {
    "colab": {
     "base_uri": "https://localhost:8080/"
    },
    "id": "hq18XkPd3oKx",
    "outputId": "5de9954e-da80-4a6f-da5f-2ce1ebb2c036"
   },
   "outputs": [
    {
     "name": "stdout",
     "output_type": "stream",
     "text": [
      "96.33758160178428\n",
      "95.40229885057471\n"
     ]
    }
   ],
   "source": [
    "avg_acc = sum(acc_list)/len(acc_list)\n",
    "final_acc = acc_list[-1]\n",
    "\n",
    "print(avg_acc)\n",
    "print(final_acc)"
   ]
  },
  {
   "cell_type": "code",
   "execution_count": 119,
   "metadata": {
    "colab": {
     "base_uri": "https://localhost:8080/"
    },
    "id": "4ALs9njNMjQz",
    "outputId": "93115921-3fdb-4a36-820f-f1fb3668c57c"
   },
   "outputs": [
    {
     "name": "stdout",
     "output_type": "stream",
     "text": [
      "INFO:tensorflow:Assets written to: ram://01392851-5e57-4a48-814c-f67ca64e2b92/assets\n"
     ]
    }
   ],
   "source": [
    "'''\n",
    "saves the CNN Model as .pkl file to be used\n",
    "'''\n",
    "with open('CNN.pkl','wb') as file:\n",
    "  pickle.dump(model,file)"
   ]
  },
  {
   "cell_type": "code",
   "execution_count": 120,
   "metadata": {
    "colab": {
     "base_uri": "https://localhost:8080/",
     "height": 1000
    },
    "id": "vznot6n6uw5k",
    "outputId": "ea1bd0ef-f50e-4128-e1e6-9367e0b6acf9"
   },
   "outputs": [
    {
     "name": "stdout",
     "output_type": "stream",
     "text": [
      " * Serving Flask app '__main__' (lazy loading)\n",
      " * Environment: production\n",
      "\u001b[31m   WARNING: This is a development server. Do not use it in a production deployment.\u001b[0m\n",
      "\u001b[2m   Use a production WSGI server instead.\u001b[0m\n",
      " * Debug mode: off\n"
     ]
    },
    {
     "name": "stderr",
     "output_type": "stream",
     "text": [
      " * Running on http://127.0.0.1:5000/ (Press CTRL+C to quit)\n",
      "127.0.0.1 - - [04/May/2022 16:39:06] \"GET / HTTP/1.1\" 200 -\n",
      "127.0.0.1 - - [04/May/2022 16:39:10] \"POST /postmethod HTTP/1.1\" 200 -\n"
     ]
    }
   ],
   "source": [
    "'''\n",
    "This block contains creates the Flask application webpage\n",
    "and receives Post requests when a prediction is ready to be made.\n",
    "Once the prediction has been made, both results are return in a json format.\n",
    "'''\n",
    "#edit this path variable to where the .ipynb, .pkl, and .html files are stored on your system\n",
    "path = '/Users/mathu/Documents/Drawing'\n",
    "app = Flask(__name__, template_folder=path)\n",
    "#run_with_ngrok(app)   \n",
    "\n",
    "#with open('CNN.pkl','rb') as f:\n",
    "#  model = pickle.load(f)\n",
    "\n",
    "#main page of flask using created html as a template\n",
    "@app.route(\"/\")\n",
    "def home():\n",
    "    return render_template('finalproj.html')\n",
    "\n",
    "#this receives post requests from the html and performs\n",
    "#all necessary operations to evaluate the image and then\n",
    "#returns it serialized as a json\n",
    "@app.route('/postmethod',methods=['POST'])\n",
    "def getImageData():\n",
    "  #stores post request\n",
    "  jsonDataBytes= request.data\n",
    "  jsonData = jsonDataBytes.decode('utf-8')\n",
    "  j = json.loads(jsonData)\n",
    "  img = j['img']\n",
    "  imgsplit = img.split(',')[1]\n",
    "  temp = base64.b64decode(imgsplit)\n",
    "  #gets decoded image and begins converting it to be used by the models\n",
    "  drawn = Image.open(io.BytesIO(temp))\n",
    "  \n",
    "  image = np.asarray(drawn)\n",
    "  g = ImageOps.grayscale(drawn)\n",
    "  arr = np.asarray(g)\n",
    "  cv2.imshow('',arr)\n",
    "  newimage = cv2.resize(arr,(28,28),cv2.INTER_AREA)\n",
    "  imagetopredict = np.asarray(newimage, dtype=\"uint8\")\n",
    "  imagetopredict = imagetopredict.reshape(1, 28, 28, 1).astype('float32')\n",
    "  \n",
    "  pred = model.predict(imagetopredict)[0]\n",
    "\n",
    "  pred1 = knn_predict(imagetopredict)\n",
    "  return jsonify(result=str(pred1),result1=str(np.argmax(pred)))\n",
    "app.run()"
   ]
  }
 ],
 "metadata": {
  "accelerator": "GPU",
  "colab": {
   "collapsed_sections": [],
   "name": "FinalProject.ipynb",
   "provenance": []
  },
  "kernelspec": {
   "display_name": "Python 3",
   "language": "python",
   "name": "python3"
  },
  "language_info": {
   "codemirror_mode": {
    "name": "ipython",
    "version": 3
   },
   "file_extension": ".py",
   "mimetype": "text/x-python",
   "name": "python",
   "nbconvert_exporter": "python",
   "pygments_lexer": "ipython3",
   "version": "3.9.5"
  }
 },
 "nbformat": 4,
 "nbformat_minor": 1
}
